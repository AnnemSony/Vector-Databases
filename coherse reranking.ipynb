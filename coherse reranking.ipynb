{
 "cells": [
  {
   "cell_type": "code",
   "execution_count": null,
   "id": "be689740",
   "metadata": {},
   "outputs": [],
   "source": []
  },
  {
   "cell_type": "code",
   "execution_count": null,
   "id": "50f4156b",
   "metadata": {},
   "outputs": [],
   "source": [
    "import cohere\n",
    "co = cohere.Client('<<apiKey>>')\n",
    "\n",
    "docs = ['Carson City is the capital city of the American state of Nevada.',\n",
    "'The Commonwealth of the Northern Mariana Islands is a group of islands in the Pacific Ocean. Its capital is Saipan.',\n",
    "'Washington, D.C. (also known as simply Washington or D.C., and officially as the District of Columbia) is the capital of the United States. It is a federal district.',\n",
    "'Capital punishment (the death penalty) has existed in the United States since beforethe United States was a country. As of 2017, capital punishment is legal in 30 of the 50 states.']\n",
    "\n",
    "response = co.rerank(\n",
    "  model = 'rerank-english-v2.0',\n",
    "  query = 'What is the capital of the United States?',\n",
    "  documents = docs,\n",
    "  top_n = 3,\n",
    ")\n",
    "print(response)"
   ]
  },
  {
   "cell_type": "code",
   "execution_count": 5,
   "id": "e5e5f0db",
   "metadata": {},
   "outputs": [
    {
     "name": "stderr",
     "output_type": "stream",
     "text": [
      "C:\\Users\\annem\\AppData\\Local\\Temp\\ipykernel_6920\\976998926.py:9: DtypeWarning: Columns (0,5,6,7,8,9) have mixed types. Specify dtype option on import or set low_memory=False.\n",
      "  df = pd.read_csv(csv_file_path, sep='\\t', quoting=3, header=None).head(100)\n"
     ]
    },
    {
     "ename": "CohereAPIError",
     "evalue": "internal server error, this has been reported to our developers. id 735bc272-07aa-46ce-8f80-1d4810e7ce99",
     "output_type": "error",
     "traceback": [
      "\u001b[1;31m---------------------------------------------------------------------------\u001b[0m",
      "\u001b[1;31mCohereAPIError\u001b[0m                            Traceback (most recent call last)",
      "Cell \u001b[1;32mIn[5], line 45\u001b[0m\n\u001b[0;32m     41\u001b[0m documents \u001b[38;5;241m=\u001b[39m [{\u001b[38;5;124m\"\u001b[39m\u001b[38;5;124mtext\u001b[39m\u001b[38;5;124m\"\u001b[39m: content} \u001b[38;5;28;01mfor\u001b[39;00m content \u001b[38;5;129;01min\u001b[39;00m matching_rows[\u001b[38;5;124m'\u001b[39m\u001b[38;5;124mconcept_name\u001b[39m\u001b[38;5;124m'\u001b[39m]\u001b[38;5;241m.\u001b[39mvalues]\n\u001b[0;32m     42\u001b[0m \u001b[38;5;66;03m#query = {\"text\": query}\u001b[39;00m\n\u001b[0;32m     43\u001b[0m \n\u001b[0;32m     44\u001b[0m \u001b[38;5;66;03m# Rerank using cohere\u001b[39;00m\n\u001b[1;32m---> 45\u001b[0m reranked_docs \u001b[38;5;241m=\u001b[39m \u001b[43mcohere_client\u001b[49m\u001b[38;5;241;43m.\u001b[39;49m\u001b[43mrerank\u001b[49m\u001b[43m(\u001b[49m\u001b[43mmodel\u001b[49m\u001b[38;5;241;43m=\u001b[39;49m\u001b[38;5;124;43m\"\u001b[39;49m\u001b[38;5;124;43membed-english-v3.0\u001b[39;49m\u001b[38;5;124;43m\"\u001b[39;49m\u001b[43m,\u001b[49m\u001b[43m \u001b[49m\u001b[43mquery\u001b[49m\u001b[38;5;241;43m=\u001b[39;49m\u001b[43mquery\u001b[49m\u001b[43m,\u001b[49m\u001b[43m \u001b[49m\u001b[43mdocuments\u001b[49m\u001b[38;5;241;43m=\u001b[39;49m\u001b[43mdocuments\u001b[49m\u001b[43m,\u001b[49m\u001b[43m \u001b[49m\u001b[43mtop_n\u001b[49m\u001b[38;5;241;43m=\u001b[39;49m\u001b[38;5;241;43m1\u001b[39;49m\u001b[43m)\u001b[49m\n\u001b[0;32m     46\u001b[0m top_reranked_concept_name \u001b[38;5;241m=\u001b[39m reranked_docs[\u001b[38;5;241m0\u001b[39m][\u001b[38;5;124m'\u001b[39m\u001b[38;5;124mtext\u001b[39m\u001b[38;5;124m'\u001b[39m]\n\u001b[0;32m     48\u001b[0m \u001b[38;5;28mprint\u001b[39m(\u001b[38;5;124mf\u001b[39m\u001b[38;5;124m\"\u001b[39m\u001b[38;5;124mTop Reranked Concept Name for Domain \u001b[39m\u001b[38;5;132;01m{\u001b[39;00mdesired_domain_id\u001b[38;5;132;01m}\u001b[39;00m\u001b[38;5;124m: \u001b[39m\u001b[38;5;132;01m{\u001b[39;00mtop_reranked_concept_name\u001b[38;5;132;01m}\u001b[39;00m\u001b[38;5;124m\"\u001b[39m)\n",
      "File \u001b[1;32m~\\anaconda3\\lib\\site-packages\\cohere\\client.py:754\u001b[0m, in \u001b[0;36mClient.rerank\u001b[1;34m(self, query, documents, model, top_n, max_chunks_per_doc)\u001b[0m\n\u001b[0;32m    741\u001b[0m         \u001b[38;5;28;01mraise\u001b[39;00m CohereError(\n\u001b[0;32m    742\u001b[0m             message\u001b[38;5;241m=\u001b[39m\u001b[38;5;124m'\u001b[39m\u001b[38;5;124minvalid format for documents, must be a list of strings or dicts with a \u001b[39m\u001b[38;5;124m\"\u001b[39m\u001b[38;5;124mtext\u001b[39m\u001b[38;5;124m\"\u001b[39m\u001b[38;5;124m key\u001b[39m\u001b[38;5;124m'\u001b[39m\n\u001b[0;32m    743\u001b[0m         )\n\u001b[0;32m    745\u001b[0m json_body \u001b[38;5;241m=\u001b[39m {\n\u001b[0;32m    746\u001b[0m     \u001b[38;5;124m\"\u001b[39m\u001b[38;5;124mquery\u001b[39m\u001b[38;5;124m\"\u001b[39m: query,\n\u001b[0;32m    747\u001b[0m     \u001b[38;5;124m\"\u001b[39m\u001b[38;5;124mdocuments\u001b[39m\u001b[38;5;124m\"\u001b[39m: parsed_docs,\n\u001b[1;32m   (...)\u001b[0m\n\u001b[0;32m    751\u001b[0m     \u001b[38;5;124m\"\u001b[39m\u001b[38;5;124mmax_chunks_per_doc\u001b[39m\u001b[38;5;124m\"\u001b[39m: max_chunks_per_doc,\n\u001b[0;32m    752\u001b[0m }\n\u001b[1;32m--> 754\u001b[0m reranking \u001b[38;5;241m=\u001b[39m Reranking(\u001b[38;5;28;43mself\u001b[39;49m\u001b[38;5;241;43m.\u001b[39;49m\u001b[43m_request\u001b[49m\u001b[43m(\u001b[49m\u001b[43mcohere\u001b[49m\u001b[38;5;241;43m.\u001b[39;49m\u001b[43mRERANK_URL\u001b[49m\u001b[43m,\u001b[49m\u001b[43m \u001b[49m\u001b[43mjson\u001b[49m\u001b[38;5;241;43m=\u001b[39;49m\u001b[43mjson_body\u001b[49m\u001b[43m)\u001b[49m)\n\u001b[0;32m    755\u001b[0m \u001b[38;5;28;01mfor\u001b[39;00m rank \u001b[38;5;129;01min\u001b[39;00m reranking\u001b[38;5;241m.\u001b[39mresults:\n\u001b[0;32m    756\u001b[0m     rank\u001b[38;5;241m.\u001b[39mdocument \u001b[38;5;241m=\u001b[39m parsed_docs[rank\u001b[38;5;241m.\u001b[39mindex]\n",
      "File \u001b[1;32m~\\anaconda3\\lib\\site-packages\\cohere\\client.py:941\u001b[0m, in \u001b[0;36mClient._request\u001b[1;34m(self, endpoint, json, files, method, stream, params)\u001b[0m\n\u001b[0;32m    938\u001b[0m     \u001b[38;5;28;01mexcept\u001b[39;00m jsonlib\u001b[38;5;241m.\u001b[39mdecoder\u001b[38;5;241m.\u001b[39mJSONDecodeError:  \u001b[38;5;66;03m# CohereAPIError will capture status\u001b[39;00m\n\u001b[0;32m    939\u001b[0m         \u001b[38;5;28;01mraise\u001b[39;00m CohereAPIError\u001b[38;5;241m.\u001b[39mfrom_response(response, message\u001b[38;5;241m=\u001b[39m\u001b[38;5;124mf\u001b[39m\u001b[38;5;124m\"\u001b[39m\u001b[38;5;124mFailed to decode json body: \u001b[39m\u001b[38;5;132;01m{\u001b[39;00mresponse\u001b[38;5;241m.\u001b[39mtext\u001b[38;5;132;01m}\u001b[39;00m\u001b[38;5;124m\"\u001b[39m)\n\u001b[1;32m--> 941\u001b[0m     \u001b[38;5;28;43mself\u001b[39;49m\u001b[38;5;241;43m.\u001b[39;49m\u001b[43m_check_response\u001b[49m\u001b[43m(\u001b[49m\u001b[43mjson_response\u001b[49m\u001b[43m,\u001b[49m\u001b[43m \u001b[49m\u001b[43mresponse\u001b[49m\u001b[38;5;241;43m.\u001b[39;49m\u001b[43mheaders\u001b[49m\u001b[43m,\u001b[49m\u001b[43m \u001b[49m\u001b[43mresponse\u001b[49m\u001b[38;5;241;43m.\u001b[39;49m\u001b[43mstatus_code\u001b[49m\u001b[43m)\u001b[49m\n\u001b[0;32m    942\u001b[0m \u001b[38;5;28;01mreturn\u001b[39;00m json_response\n",
      "File \u001b[1;32m~\\anaconda3\\lib\\site-packages\\cohere\\client.py:883\u001b[0m, in \u001b[0;36mClient._check_response\u001b[1;34m(self, json_response, headers, status_code)\u001b[0m\n\u001b[0;32m    881\u001b[0m     logger\u001b[38;5;241m.\u001b[39mwarning(headers[\u001b[38;5;124m\"\u001b[39m\u001b[38;5;124mX-API-Warning\u001b[39m\u001b[38;5;124m\"\u001b[39m])\n\u001b[0;32m    882\u001b[0m \u001b[38;5;28;01mif\u001b[39;00m \u001b[38;5;124m\"\u001b[39m\u001b[38;5;124mmessage\u001b[39m\u001b[38;5;124m\"\u001b[39m \u001b[38;5;129;01min\u001b[39;00m json_response:  \u001b[38;5;66;03m# has errors\u001b[39;00m\n\u001b[1;32m--> 883\u001b[0m     \u001b[38;5;28;01mraise\u001b[39;00m CohereAPIError(\n\u001b[0;32m    884\u001b[0m         message\u001b[38;5;241m=\u001b[39mjson_response[\u001b[38;5;124m\"\u001b[39m\u001b[38;5;124mmessage\u001b[39m\u001b[38;5;124m\"\u001b[39m],\n\u001b[0;32m    885\u001b[0m         http_status\u001b[38;5;241m=\u001b[39mstatus_code,\n\u001b[0;32m    886\u001b[0m         headers\u001b[38;5;241m=\u001b[39mheaders,\n\u001b[0;32m    887\u001b[0m     )\n\u001b[0;32m    888\u001b[0m \u001b[38;5;28;01mif\u001b[39;00m \u001b[38;5;241m400\u001b[39m \u001b[38;5;241m<\u001b[39m\u001b[38;5;241m=\u001b[39m status_code \u001b[38;5;241m<\u001b[39m \u001b[38;5;241m500\u001b[39m:\n\u001b[0;32m    889\u001b[0m     \u001b[38;5;28;01mraise\u001b[39;00m CohereAPIError(\n\u001b[0;32m    890\u001b[0m         message\u001b[38;5;241m=\u001b[39m\u001b[38;5;124mf\u001b[39m\u001b[38;5;124m\"\u001b[39m\u001b[38;5;124mUnexpected client error (status \u001b[39m\u001b[38;5;132;01m{\u001b[39;00mstatus_code\u001b[38;5;132;01m}\u001b[39;00m\u001b[38;5;124m): \u001b[39m\u001b[38;5;132;01m{\u001b[39;00mjson_response\u001b[38;5;132;01m}\u001b[39;00m\u001b[38;5;124m\"\u001b[39m,\n\u001b[0;32m    891\u001b[0m         http_status\u001b[38;5;241m=\u001b[39mstatus_code,\n\u001b[0;32m    892\u001b[0m         headers\u001b[38;5;241m=\u001b[39mheaders,\n\u001b[0;32m    893\u001b[0m     )\n",
      "\u001b[1;31mCohereAPIError\u001b[0m: internal server error, this has been reported to our developers. id 735bc272-07aa-46ce-8f80-1d4810e7ce99"
     ]
    }
   ],
   "source": [
    "import pandas as pd\n",
    "from sentence_transformers import SentenceTransformer, util\n",
    "import torch\n",
    "from cohere import Client\n",
    "\n",
    "csv_file_path = \"C:\\\\Users\\\\annem\\\\OneDrive\\\\Desktop\\\\ohdsi concepts\\\\CONCEPT.csv\"\n",
    "output_csv_file_path = r\"C:\\Users\\annem\\OneDrive\\Desktop\\conceptsNormalization\\embeddings3.csv\"\n",
    "\n",
    "df = pd.read_csv(csv_file_path, sep='\\t', quoting=3, header=None).head(100)\n",
    "df.columns = [\"concept_id\", \"concept_name\", \"domain_id\", \"vocabulary_id\", \"concept_class_id\", \"standard_concept\", \"concept_code\", \"valid_start_date\", \"valid_end_date\", \"invalid_reason\"]\n",
    "\n",
    "model = SentenceTransformer('sentence-transformers/all-mpnet-base-v2')\n",
    "\n",
    "loaded_embeddings_df = pd.read_csv(output_csv_file_path)\n",
    "desired_domain_id = \"Provider\"\n",
    "\n",
    "filtered_df = df[df['domain_id'] == desired_domain_id]\n",
    "\n",
    "if not filtered_df.empty:\n",
    "    filtered_embeddings = [torch.tensor(eval(embedding)) for embedding in loaded_embeddings_df[loaded_embeddings_df['concept_id'].isin(filtered_df['concept_id'])]['embedding']]\n",
    "    filtered_embeddings = torch.stack(filtered_embeddings)\n",
    "    \n",
    "    query = \"lobes of the lung\"\n",
    "    query=str(query)\n",
    "    query_embedding = model.encode(query)\n",
    "    query_embedding = torch.tensor(query_embedding)\n",
    "\n",
    "    cosine_similarity = torch.nn.functional.cosine_similarity(query_embedding, filtered_embeddings)\n",
    "    top_10_indices = torch.topk(cosine_similarity, k=10).indices\n",
    "\n",
    "    top_10_results = loaded_embeddings_df.iloc[top_10_indices]\n",
    "\n",
    "    if not top_10_results.empty:\n",
    "        matching_rows = filtered_df[filtered_df['concept_id'].isin(top_10_results['concept_id'].values)]\n",
    "\n",
    "        if not matching_rows.empty:\n",
    "            # Use cohere for reranking\n",
    "            cohere_api_key = \"ium8JWus9GHqhQ0huVEPk2L6zw27zpyhUHUh7AN1\"\n",
    "            cohere_client = Client(api_key=cohere_api_key)\n",
    "\n",
    "            documents = [{\"text\": content} for content in matching_rows['concept_name'].values]\n",
    "            #query = {\"text\": query}\n",
    "\n",
    "            # Rerank using cohere\n",
    "            reranked_docs = cohere_client.rerank(model=\"embed-english-v3.0\", query=query, documents=documents, top_n=1)\n",
    "            top_reranked_concept_name = reranked_docs[0]['text']\n",
    "            \n",
    "            print(f\"Top Reranked Concept Name for Domain {desired_domain_id}: {top_reranked_concept_name}\")\n",
    "\n",
    "        else:\n",
    "            print(f\"No matching rows found in the DataFrame for the top 10 similarity concept IDs in Domain {desired_domain_id}.\")\n",
    "    else:\n",
    "        print(f\"No rows found in the top 10 results.\")\n",
    "else:\n",
    "    print(f\"No rows found in the DataFrame for Domain {desired_domain_id}.\")\n"
   ]
  },
  {
   "cell_type": "code",
   "execution_count": null,
   "id": "2c965403",
   "metadata": {},
   "outputs": [],
   "source": []
  },
  {
   "cell_type": "code",
   "execution_count": null,
   "id": "0e8b4d63",
   "metadata": {},
   "outputs": [],
   "source": []
  },
  {
   "cell_type": "code",
   "execution_count": 7,
   "id": "2c83d9a5",
   "metadata": {},
   "outputs": [],
   "source": [
    "import pandas as pd\n",
    "\n",
    "# Read the Excel file\n",
    "df = pd.read_excel(r\"C:\\Users\\annem\\OneDrive\\Desktop\\conceptsNormalization\\all_criteria_corpus.xlsx\")\n",
    "\n",
    "# Remove duplicates\n",
    "df.drop_duplicates(inplace=True)\n",
    "\n",
    "# Remove null values\n",
    "df.dropna(inplace=True)\n",
    "\n",
    "# Filter out rows where 'domain' contains 'Person'\n",
    "df = df[~df['domain'].str.contains('Person')]\n",
    "\n",
    "# Save the cleaned data to a new Excel file\n",
    "df.to_excel('cleaned_data.xlsx', index=False)\n"
   ]
  },
  {
   "cell_type": "code",
   "execution_count": 8,
   "id": "ede63353",
   "metadata": {},
   "outputs": [
    {
     "ename": "AttributeError",
     "evalue": "'DataFrame' object has no attribute 'save'",
     "output_type": "error",
     "traceback": [
      "\u001b[1;31m---------------------------------------------------------------------------\u001b[0m",
      "\u001b[1;31mAttributeError\u001b[0m                            Traceback (most recent call last)",
      "Cell \u001b[1;32mIn[8], line 1\u001b[0m\n\u001b[1;32m----> 1\u001b[0m \u001b[43mdf\u001b[49m\u001b[38;5;241;43m.\u001b[39;49m\u001b[43msave\u001b[49m(\u001b[38;5;124m'\u001b[39m\u001b[38;5;124mcleaned_data.xlsx\u001b[39m\u001b[38;5;124m'\u001b[39m)\n",
      "File \u001b[1;32m~\\anaconda3\\lib\\site-packages\\pandas\\core\\generic.py:5902\u001b[0m, in \u001b[0;36mNDFrame.__getattr__\u001b[1;34m(self, name)\u001b[0m\n\u001b[0;32m   5895\u001b[0m \u001b[38;5;28;01mif\u001b[39;00m (\n\u001b[0;32m   5896\u001b[0m     name \u001b[38;5;129;01mnot\u001b[39;00m \u001b[38;5;129;01min\u001b[39;00m \u001b[38;5;28mself\u001b[39m\u001b[38;5;241m.\u001b[39m_internal_names_set\n\u001b[0;32m   5897\u001b[0m     \u001b[38;5;129;01mand\u001b[39;00m name \u001b[38;5;129;01mnot\u001b[39;00m \u001b[38;5;129;01min\u001b[39;00m \u001b[38;5;28mself\u001b[39m\u001b[38;5;241m.\u001b[39m_metadata\n\u001b[0;32m   5898\u001b[0m     \u001b[38;5;129;01mand\u001b[39;00m name \u001b[38;5;129;01mnot\u001b[39;00m \u001b[38;5;129;01min\u001b[39;00m \u001b[38;5;28mself\u001b[39m\u001b[38;5;241m.\u001b[39m_accessors\n\u001b[0;32m   5899\u001b[0m     \u001b[38;5;129;01mand\u001b[39;00m \u001b[38;5;28mself\u001b[39m\u001b[38;5;241m.\u001b[39m_info_axis\u001b[38;5;241m.\u001b[39m_can_hold_identifiers_and_holds_name(name)\n\u001b[0;32m   5900\u001b[0m ):\n\u001b[0;32m   5901\u001b[0m     \u001b[38;5;28;01mreturn\u001b[39;00m \u001b[38;5;28mself\u001b[39m[name]\n\u001b[1;32m-> 5902\u001b[0m \u001b[38;5;28;01mreturn\u001b[39;00m \u001b[38;5;28;43mobject\u001b[39;49m\u001b[38;5;241;43m.\u001b[39;49m\u001b[38;5;21;43m__getattribute__\u001b[39;49m\u001b[43m(\u001b[49m\u001b[38;5;28;43mself\u001b[39;49m\u001b[43m,\u001b[49m\u001b[43m \u001b[49m\u001b[43mname\u001b[49m\u001b[43m)\u001b[49m\n",
      "\u001b[1;31mAttributeError\u001b[0m: 'DataFrame' object has no attribute 'save'"
     ]
    }
   ],
   "source": [
    "df.save('cleaned_data.xlsx')"
   ]
  },
  {
   "cell_type": "code",
   "execution_count": null,
   "id": "87342eb5",
   "metadata": {},
   "outputs": [],
   "source": []
  }
 ],
 "metadata": {
  "kernelspec": {
   "display_name": "Python 3 (ipykernel)",
   "language": "python",
   "name": "python3"
  },
  "language_info": {
   "codemirror_mode": {
    "name": "ipython",
    "version": 3
   },
   "file_extension": ".py",
   "mimetype": "text/x-python",
   "name": "python",
   "nbconvert_exporter": "python",
   "pygments_lexer": "ipython3",
   "version": "3.9.16"
  }
 },
 "nbformat": 4,
 "nbformat_minor": 5
}
