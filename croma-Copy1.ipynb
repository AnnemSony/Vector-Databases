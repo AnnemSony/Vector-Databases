{
 "cells": [
  {
   "cell_type": "code",
   "execution_count": null,
   "id": "8c147c12",
   "metadata": {},
   "outputs": [],
   "source": []
  },
  {
   "cell_type": "code",
   "execution_count": 1,
   "id": "ccd3490a",
   "metadata": {},
   "outputs": [],
   "source": [
    "import chromadb"
   ]
  },
  {
   "cell_type": "code",
   "execution_count": null,
   "id": "c580075e",
   "metadata": {},
   "outputs": [],
   "source": []
  },
  {
   "cell_type": "code",
   "execution_count": 2,
   "id": "0373bdc8",
   "metadata": {},
   "outputs": [
    {
     "name": "stderr",
     "output_type": "stream",
     "text": [
      "C:\\Users\\annem\\AppData\\Local\\Temp\\ipykernel_11896\\4277068480.py:4: DtypeWarning: Columns (0,5,6,7,8,9) have mixed types. Specify dtype option on import or set low_memory=False.\n",
      "  df = pd.read_csv(csv_file_path, sep='\\t', quoting=3, header=None)\n"
     ]
    }
   ],
   "source": [
    "import pandas as pd\n",
    "csv_file_path = \"CONCEPT.csv\"\n",
    "\n",
    "df = pd.read_csv(csv_file_path, sep='\\t', quoting=3, header=None)\n",
    "df.columns = [\"concept_id\", \"concept_name\", \"domain_id\", \"vocabulary_id\", \"concept_class_id\", \"standard_concept\", \"concept_code\", \"valid_start_date\", \"valid_end_date\", \"invalid_reason\"]\n",
    "\n",
    "documents = []\n",
    "metadatas = []\n",
    "ids = []\n",
    "\n",
    "count = 0\n",
    "for index, row in df.iterrows():\n",
    "    if count >= 50:\n",
    "        break\n",
    "    \n",
    "    concept_name = row['concept_name']\n",
    "    if isinstance(concept_name, str) and concept_name.strip():\n",
    "        documents.append(concept_name)\n",
    "        metadatas.append({\"concept_id\": row['concept_id']})\n",
    "        ids.append(str(index + 1))\n",
    "        count += 1\n",
    "        \n",
    "    else:\n",
    "        print(f\"Skipping concept_name: {concept_name} as it is not a valid string or empty.\")\n"
   ]
  },
  {
   "cell_type": "code",
   "execution_count": null,
   "id": "5448f5ee",
   "metadata": {},
   "outputs": [],
   "source": []
  },
  {
   "cell_type": "code",
   "execution_count": 3,
   "id": "7f7c5188",
   "metadata": {},
   "outputs": [
    {
     "name": "stderr",
     "output_type": "stream",
     "text": [
      "No sentence-transformers model found with name C:\\Users\\annem/.cache\\torch\\sentence_transformers\\emilyalsentzer_Bio_ClinicalBERT. Creating a new one with MEAN pooling.\n"
     ]
    }
   ],
   "source": [
    "from chromadb.utils import embedding_functions\n",
    "sentence_transformer_ef = embedding_functions.SentenceTransformerEmbeddingFunction(model_name=\"emilyalsentzer/Bio_ClinicalBERT\")\n",
    "#sentence_transformer_ef = embedding_functions.SentenceTransformerEmbeddingFunction(model_name=\"NeuML/pubmedbert-base-embeddings\")"
   ]
  },
  {
   "cell_type": "code",
   "execution_count": 4,
   "id": "ba48e97d",
   "metadata": {},
   "outputs": [],
   "source": [
    "#client = chromadb.PersistentClient(path=\"vectodbn0\")\n",
    "client = chromadb.PersistentClient(path=\"bio\")\n",
    "collection = client.create_collection(name=\"bio\", embedding_function=sentence_transformer_ef)\n"
   ]
  },
  {
   "cell_type": "code",
   "execution_count": 5,
   "id": "80cc730d",
   "metadata": {},
   "outputs": [],
   "source": [
    "collection.add(\n",
    "    documents=documents,\n",
    "   \n",
    "    metadatas=metadatas,\n",
    "    \n",
    "    ids=ids\n",
    ")\n",
    "  "
   ]
  },
  {
   "cell_type": "code",
   "execution_count": 7,
   "id": "14981ea0",
   "metadata": {},
   "outputs": [],
   "source": [
    "#client.delete_collection(name=\"concepts\")"
   ]
  },
  {
   "cell_type": "code",
   "execution_count": null,
   "id": "adc9966f",
   "metadata": {},
   "outputs": [],
   "source": []
  },
  {
   "cell_type": "code",
   "execution_count": 10,
   "id": "82e8a858",
   "metadata": {},
   "outputs": [],
   "source": [
    "results=collection.query(\n",
    "query_texts=[\"Pediatric Cardiology\"],\n",
    "n_results=1,\n",
    "include=['distances','metadatas', 'documents', 'embeddings'])"
   ]
  },
  {
   "cell_type": "code",
   "execution_count": 25,
   "id": "fc93b534",
   "metadata": {},
   "outputs": [],
   "source": [
    "# client = chromadb.PersistentClient(path=\"database\")\n",
    "# collection = client.create_collection(name=\"concepts\")"
   ]
  },
  {
   "cell_type": "code",
   "execution_count": null,
   "id": "8f3c1d35",
   "metadata": {},
   "outputs": [],
   "source": []
  },
  {
   "cell_type": "code",
   "execution_count": 12,
   "id": "ea6695f0",
   "metadata": {},
   "outputs": [],
   "source": [
    "# results"
   ]
  },
  {
   "cell_type": "code",
   "execution_count": 6,
   "id": "032ebab0",
   "metadata": {},
   "outputs": [],
   "source": [
    "#client=chromadb.PersistentClient(path=\"vectordb\")"
   ]
  },
  {
   "cell_type": "code",
   "execution_count": 9,
   "id": "c632cd60",
   "metadata": {},
   "outputs": [
    {
     "data": {
      "text/plain": [
       "Collection(name=concepts)"
      ]
     },
     "execution_count": 9,
     "metadata": {},
     "output_type": "execute_result"
    }
   ],
   "source": [
    "# collection"
   ]
  },
  {
   "cell_type": "code",
   "execution_count": 8,
   "id": "5efe2f91",
   "metadata": {},
   "outputs": [],
   "source": [
    "# from chromadb import PersistentClient\n",
    "\n",
    "# path = \"vectordb\" \n",
    "# client = PersistentClient(path=path)\n"
   ]
  },
  {
   "cell_type": "code",
   "execution_count": 12,
   "id": "c068a10c",
   "metadata": {},
   "outputs": [],
   "source": [
    "# from langchain.vectorstores import Chroma\n",
    "# vectordb=Chroma(persist_directory=\"vectordb\",  embedding_function=sentence_transformer_ef)"
   ]
  },
  {
   "cell_type": "code",
   "execution_count": 26,
   "id": "b3983c2c",
   "metadata": {},
   "outputs": [
    {
     "name": "stdout",
     "output_type": "stream",
     "text": [
      "The 'concepts' collection does not exist.\n",
      "[Collection(name=concepts)]\n"
     ]
    }
   ],
   "source": [
    "#client = chromadb.PersistentClient(path=\"vectordb\")\n",
    "# existing_collections = client.list_collections()  # This should return a list of existing collections\n",
    "\n",
    "\n",
    "# if \"concepts\" in existing_collections:\n",
    "#     print(\"The 'concepts' collection exists.\")\n",
    "# else:\n",
    "#     print(\"The 'concepts' collection does not exist.\")\n",
    "# print(existing_collections)"
   ]
  },
  {
   "cell_type": "code",
   "execution_count": 35,
   "id": "75459283",
   "metadata": {},
   "outputs": [
    {
     "name": "stdout",
     "output_type": "stream",
     "text": [
      "{'ids': [['88']], 'distances': None, 'metadatas': None, 'embeddings': None, 'documents': [['Pediatric Pulmonology']], 'uris': None, 'data': None}\n",
      "dict_keys(['ids', 'distances', 'metadatas', 'embeddings', 'documents', 'uris', 'data'])\n",
      "[['Pediatric Pulmonology']]\n"
     ]
    }
   ],
   "source": [
    "# query_result = collection.query(query_texts=[entity], n_results=1, include=['documents'])\n",
    "# print(query_result) \n",
    "# print(query_result.keys()) \n",
    "# print(query_result['documents'])  \n"
   ]
  },
  {
   "cell_type": "code",
   "execution_count": null,
   "id": "cefb10e1",
   "metadata": {},
   "outputs": [],
   "source": []
  },
  {
   "cell_type": "code",
   "execution_count": 37,
   "id": "05936be1",
   "metadata": {},
   "outputs": [
    {
     "name": "stdout",
     "output_type": "stream",
     "text": [
      "Index(['Entity', 'Concept(usagi)', 'Usagi_score', 'Concept_ID',\n",
      "       'Domain (gold)', 'Unnamed: 5', 'Concept(gold)'],\n",
      "      dtype='object')\n"
     ]
    }
   ],
   "source": [
    "# import pandas as pd\n",
    "\n",
    "# excel_file_path = \"Usagi_eval.xlsx\"\n",
    "# df = pd.read_excel(excel_file_path)\n",
    "# print(df.columns)\n",
    "# results = []\n",
    "\n",
    "# counter = 0\n",
    "\n",
    "# for index, row in df.iterrows():\n",
    "#     if counter >= 5:\n",
    "#         break\n",
    "\n",
    "#     entity = row['Entity']\n",
    "#     ground_truth = row['Concept(gold)']\n",
    "#     query_result = collection.query(query_texts=[entity], n_results=1, include=['documents'])\n",
    "\n",
    "#     if query_result and query_result['documents']:\n",
    "#         retrieved_concept = query_result['documents'][0][0] \n",
    "\n",
    "#         results.append({\n",
    "#             'Entity': entity,\n",
    "#             'GroundTruth': ground_truth,\n",
    "#             'RetrievedConcept': retrieved_concept\n",
    "#         })\n",
    "#         counter += 1  \n",
    "\n",
    "# output_df = pd.DataFrame(results)\n",
    "# output_df.to_excel(\"output_results.xlsx\", index=False)\n"
   ]
  },
  {
   "cell_type": "code",
   "execution_count": null,
   "id": "6b85294e",
   "metadata": {},
   "outputs": [],
   "source": []
  },
  {
   "cell_type": "code",
   "execution_count": null,
   "id": "ef48a7da",
   "metadata": {},
   "outputs": [],
   "source": []
  },
  {
   "cell_type": "code",
   "execution_count": 9,
   "id": "caccf150",
   "metadata": {},
   "outputs": [
    {
     "name": "stdout",
     "output_type": "stream",
     "text": [
      "['Interventional Cardiology', 'Neurotology', 'Neuroradiology', 'Pediatric Cardiology', 'Clinical Informatics', 'Pathology - Chemical']\n"
     ]
    }
   ],
   "source": [
    "import chromadb\n",
    "\n",
    "\n",
    "client = chromadb.PersistentClient(path=\"bio\")\n",
    "\n",
    "\n",
    "collection = client.get_collection(name=\"bio\", embedding_function=sentence_transformer_ef)\n",
    "\n",
    "# # Use the 'collection' object for queries or other operations\n",
    "# query_result = collection.query(query_texts=[\"cardiology\"], n_results=1, include=['documents'])\n",
    "# print(query_result)\n",
    "# import chromadb\n",
    "\n",
    "\n",
    "# client = chromadb.PersistentClient(path=\"database\")\n",
    "\n",
    "\n",
    "# collection = client.get_collection(name=\"concepts\")\n",
    "\n",
    "\n",
    "query_result = collection.query(query_texts=[\"cardiology\"], n_results=6, include=['documents'])\n",
    "if query_result and query_result['documents']:\n",
    "    retrieved_documents = query_result['documents'][0]\n",
    "    print(retrieved_documents)\n",
    "\n"
   ]
  },
  {
   "cell_type": "code",
   "execution_count": null,
   "id": "afa16873",
   "metadata": {},
   "outputs": [],
   "source": []
  },
  {
   "cell_type": "code",
   "execution_count": null,
   "id": "4a3bd3dd",
   "metadata": {},
   "outputs": [],
   "source": []
  }
 ],
 "metadata": {
  "kernelspec": {
   "display_name": "Python 3 (ipykernel)",
   "language": "python",
   "name": "python3"
  },
  "language_info": {
   "codemirror_mode": {
    "name": "ipython",
    "version": 3
   },
   "file_extension": ".py",
   "mimetype": "text/x-python",
   "name": "python",
   "nbconvert_exporter": "python",
   "pygments_lexer": "ipython3",
   "version": "3.9.16"
  }
 },
 "nbformat": 4,
 "nbformat_minor": 5
}
