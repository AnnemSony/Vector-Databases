{
 "cells": [
  {
   "cell_type": "code",
   "execution_count": 3,
   "id": "a62a4a3f",
   "metadata": {
    "collapsed": true
   },
   "outputs": [
    {
     "name": "stdout",
     "output_type": "stream",
     "text": [
      "Collecting weaviate-client==3.*\n",
      "  Downloading weaviate_client-3.26.1-py3-none-any.whl (120 kB)\n",
      "     -------------------------------------- 120.3/120.3 kB 1.4 MB/s eta 0:00:00\n",
      "Requirement already satisfied: requests<3.0.0,>=2.30.0 in c:\\users\\annem\\anaconda3\\lib\\site-packages (from weaviate-client==3.*) (2.31.0)\n",
      "Collecting authlib<2.0.0,>=1.2.1\n",
      "  Using cached Authlib-1.3.0-py2.py3-none-any.whl (223 kB)\n",
      "Requirement already satisfied: validators<1.0.0,>=0.21.2 in c:\\users\\annem\\anaconda3\\lib\\site-packages (from weaviate-client==3.*) (0.22.0)\n",
      "Requirement already satisfied: cryptography in c:\\users\\annem\\anaconda3\\lib\\site-packages (from authlib<2.0.0,>=1.2.1->weaviate-client==3.*) (39.0.1)\n",
      "Requirement already satisfied: idna<4,>=2.5 in c:\\users\\annem\\anaconda3\\lib\\site-packages (from requests<3.0.0,>=2.30.0->weaviate-client==3.*) (3.4)\n",
      "Requirement already satisfied: charset-normalizer<4,>=2 in c:\\users\\annem\\anaconda3\\lib\\site-packages (from requests<3.0.0,>=2.30.0->weaviate-client==3.*) (2.1.1)\n",
      "Requirement already satisfied: certifi>=2017.4.17 in c:\\users\\annem\\anaconda3\\lib\\site-packages (from requests<3.0.0,>=2.30.0->weaviate-client==3.*) (2022.12.7)\n",
      "Requirement already satisfied: urllib3<3,>=1.21.1 in c:\\users\\annem\\anaconda3\\lib\\site-packages (from requests<3.0.0,>=2.30.0->weaviate-client==3.*) (1.26.14)\n",
      "Requirement already satisfied: cffi>=1.12 in c:\\users\\annem\\anaconda3\\lib\\site-packages (from cryptography->authlib<2.0.0,>=1.2.1->weaviate-client==3.*) (1.15.1)\n",
      "Requirement already satisfied: pycparser in c:\\users\\annem\\anaconda3\\lib\\site-packages (from cffi>=1.12->cryptography->authlib<2.0.0,>=1.2.1->weaviate-client==3.*) (2.21)\n",
      "Installing collected packages: authlib, weaviate-client\n",
      "Successfully installed authlib-1.3.0 weaviate-client-3.26.1\n",
      "Note: you may need to restart the kernel to use updated packages.\n"
     ]
    },
    {
     "name": "stderr",
     "output_type": "stream",
     "text": [
      "WARNING: Ignoring invalid distribution -otobuf (c:\\users\\annem\\anaconda3\\lib\\site-packages)\n",
      "WARNING: Ignoring invalid distribution -rotobuf (c:\\users\\annem\\anaconda3\\lib\\site-packages)\n",
      "WARNING: Ignoring invalid distribution - (c:\\users\\annem\\anaconda3\\lib\\site-packages)\n",
      "WARNING: Ignoring invalid distribution -atplotlib (c:\\users\\annem\\anaconda3\\lib\\site-packages)\n",
      "WARNING: Ignoring invalid distribution -otobuf (c:\\users\\annem\\anaconda3\\lib\\site-packages)\n",
      "WARNING: Ignoring invalid distribution -rotobuf (c:\\users\\annem\\anaconda3\\lib\\site-packages)\n",
      "WARNING: Ignoring invalid distribution - (c:\\users\\annem\\anaconda3\\lib\\site-packages)\n",
      "WARNING: Ignoring invalid distribution -atplotlib (c:\\users\\annem\\anaconda3\\lib\\site-packages)\n",
      "WARNING: Ignoring invalid distribution -otobuf (c:\\users\\annem\\anaconda3\\lib\\site-packages)\n",
      "WARNING: Ignoring invalid distribution -rotobuf (c:\\users\\annem\\anaconda3\\lib\\site-packages)\n",
      "WARNING: Ignoring invalid distribution - (c:\\users\\annem\\anaconda3\\lib\\site-packages)\n",
      "WARNING: Ignoring invalid distribution -atplotlib (c:\\users\\annem\\anaconda3\\lib\\site-packages)\n",
      "WARNING: Error parsing requirements for tensorflow-estimator: [Errno 2] No such file or directory: 'c:\\\\users\\\\annem\\\\anaconda3\\\\lib\\\\site-packages\\\\tensorflow_estimator-2.10.0.dist-info\\\\METADATA'\n",
      "WARNING: Error parsing requirements for keras: [Errno 2] No such file or directory: 'c:\\\\users\\\\annem\\\\anaconda3\\\\lib\\\\site-packages\\\\keras-2.10.0.dist-info\\\\METADATA'\n",
      "WARNING: Ignoring invalid distribution -otobuf (c:\\users\\annem\\anaconda3\\lib\\site-packages)\n",
      "WARNING: Ignoring invalid distribution -rotobuf (c:\\users\\annem\\anaconda3\\lib\\site-packages)\n",
      "WARNING: Ignoring invalid distribution - (c:\\users\\annem\\anaconda3\\lib\\site-packages)\n",
      "WARNING: Ignoring invalid distribution -atplotlib (c:\\users\\annem\\anaconda3\\lib\\site-packages)\n",
      "WARNING: Ignoring invalid distribution -otobuf (c:\\users\\annem\\anaconda3\\lib\\site-packages)\n",
      "WARNING: Ignoring invalid distribution -rotobuf (c:\\users\\annem\\anaconda3\\lib\\site-packages)\n",
      "WARNING: Ignoring invalid distribution - (c:\\users\\annem\\anaconda3\\lib\\site-packages)\n",
      "WARNING: Ignoring invalid distribution -atplotlib (c:\\users\\annem\\anaconda3\\lib\\site-packages)\n",
      "WARNING: Ignoring invalid distribution -otobuf (c:\\users\\annem\\anaconda3\\lib\\site-packages)\n",
      "WARNING: Ignoring invalid distribution -rotobuf (c:\\users\\annem\\anaconda3\\lib\\site-packages)\n",
      "WARNING: Ignoring invalid distribution - (c:\\users\\annem\\anaconda3\\lib\\site-packages)\n",
      "WARNING: Ignoring invalid distribution -atplotlib (c:\\users\\annem\\anaconda3\\lib\\site-packages)\n",
      "WARNING: Ignoring invalid distribution -otobuf (c:\\users\\annem\\anaconda3\\lib\\site-packages)\n",
      "WARNING: Ignoring invalid distribution -rotobuf (c:\\users\\annem\\anaconda3\\lib\\site-packages)\n",
      "WARNING: Ignoring invalid distribution - (c:\\users\\annem\\anaconda3\\lib\\site-packages)\n",
      "WARNING: Ignoring invalid distribution -atplotlib (c:\\users\\annem\\anaconda3\\lib\\site-packages)\n",
      "WARNING: Ignoring invalid distribution -otobuf (c:\\users\\annem\\anaconda3\\lib\\site-packages)\n",
      "WARNING: Ignoring invalid distribution -rotobuf (c:\\users\\annem\\anaconda3\\lib\\site-packages)\n",
      "WARNING: Ignoring invalid distribution - (c:\\users\\annem\\anaconda3\\lib\\site-packages)\n",
      "WARNING: Ignoring invalid distribution -atplotlib (c:\\users\\annem\\anaconda3\\lib\\site-packages)\n"
     ]
    }
   ],
   "source": [
    "pip install \"weaviate-client==3.*\""
   ]
  },
  {
   "cell_type": "code",
   "execution_count": 7,
   "id": "30f75ec3",
   "metadata": {},
   "outputs": [],
   "source": [
    "import weaviate\n",
    "\n",
    "auth_config = weaviate.AuthApiKey(api_key=\"fJ9paGnUZDLAHDr8wFJt1y8owbmGT4vXqfyd\")\n",
    "\n",
    "client = weaviate.Client(\n",
    "  url=\"https://concepts-32v46zqy.weaviate.network\",\n",
    "  auth_client_secret=auth_config\n",
    ")"
   ]
  },
  {
   "cell_type": "code",
   "execution_count": null,
   "id": "f96bae87",
   "metadata": {},
   "outputs": [],
   "source": [
    "import weaviate\n",
    "from weaviate.embedded import EmbeddedOptions\n",
    "import json\n",
    "import os\n",
    "\n",
    "client = weaviate.Client(\n",
    "    embedded_options=EmbeddedOptions(),\n",
    "    additional_headers={\n",
    "        \"Authorization\": f\"Bearer {os.environ['']}\"  # Replace with your Hugging Face API key\n",
    "    }\n",
    ")\n"
   ]
  },
  {
   "cell_type": "code",
   "execution_count": null,
   "id": "a8e3b871",
   "metadata": {},
   "outputs": [],
   "source": []
  },
  {
   "cell_type": "code",
   "execution_count": 9,
   "id": "0bbe49e7",
   "metadata": {},
   "outputs": [
    {
     "name": "stderr",
     "output_type": "stream",
     "text": [
      "C:\\Users\\annem\\anaconda3\\lib\\site-packages\\pandas\\io\\parsers\\c_parser_wrapper.py:373: DeprecationWarning: np.find_common_type is deprecated.  Please use `np.result_type` or `np.promote_types`.\n",
      "See https://numpy.org/devdocs/release/1.25.0-notes.html and the docs for more information.  (Deprecated NumPy 1.25)\n",
      "  common_type = np.find_common_type(\n",
      "C:\\Users\\annem\\AppData\\Local\\Temp\\ipykernel_28716\\3435504627.py:4: DtypeWarning: Columns (0,5,6,7,8,9) have mixed types. Specify dtype option on import or set low_memory=False.\n",
      "  df = pd.read_csv(csv_file_path, sep='\\t', quoting=3, header=None)\n"
     ]
    },
    {
     "name": "stdout",
     "output_type": "stream",
     "text": [
      "Count of duplicates in 'concept_name' column: 1703919\n"
     ]
    }
   ],
   "source": [
    "import pandas as pd\n",
    "\n",
    "csv_file_path = r\"C:\\Users\\annem\\OneDrive\\Desktop\\ohdsi concepts\\CONCEPT2.csv\"\n",
    "df = pd.read_csv(csv_file_path, sep='\\t', quoting=3, header=None)\n",
    "df.columns = [\"concept_id\", \"concept_name\", \"domain_id\", \"vocabulary_id\", \"concept_class_id\", \"standard_concept\", \"concept_code\", \"valid_start_date\", \"valid_end_date\", \"invalid_reason\"]\n",
    "duplicates_count = df.duplicated(subset=[\"concept_name\"]).sum()\n",
    "print(f\"Count of duplicates in 'concept_name' column: {duplicates_count}\")\n"
   ]
  },
  {
   "cell_type": "code",
   "execution_count": 10,
   "id": "cd4fb19c",
   "metadata": {},
   "outputs": [
    {
     "name": "stdout",
     "output_type": "stream",
     "text": [
      "Count of each value in 'concept_name' column:\n",
      "ethanol 0.7 ML/ML Topical Gel                                                               9832\n",
      "oxygen 99 % Gas for Inhalation                                                              6202\n",
      "ethanol 0.75 ML/ML Topical Gel                                                              6100\n",
      "ethanol 0.8 ML/ML Topical Solution                                                          4958\n",
      "Retired procedure                                                                           4042\n",
      "                                                                                            ... \n",
      "Progesterone Vaginal Spray [Biograviplan]                                                      1\n",
      "Bifidobacterium bifidum Oral Powder [Probiotic Aplus]                                          1\n",
      "PRIMULA VERIS FLOWER EXTRACT / Thymus vulgaris whole extract Oral Solution [Primotussan]       1\n",
      "prednisolone / Sulfacetamide Prefilled Applicator [Blephamide]                                 1\n",
      "NHS Admission Source and Discharge Destination                                                 1\n",
      "Name: concept_name, Length: 4271473, dtype: int64\n"
     ]
    }
   ],
   "source": [
    "\n",
    "concept_name_counts = df['concept_name'].value_counts()\n",
    "\n",
    "print(\"Count of each value in 'concept_name' column:\")\n",
    "print(concept_name_counts)\n"
   ]
  },
  {
   "cell_type": "code",
   "execution_count": 14,
   "id": "39832cb5",
   "metadata": {},
   "outputs": [
    {
     "name": "stdout",
     "output_type": "stream",
     "text": [
      "Number of times 'ethanol 0.7 ML/ML Topical Gel' appeared in the 'concept_name' column: 9832\n"
     ]
    }
   ],
   "source": [
    "specific_sentence = \"ethanol 0.7 ML/ML Topical Gel\"\n",
    "sentence_count = (df['concept_name'] == specific_sentence).sum()\n",
    "print(f\"Number of times '{specific_sentence}' appeared in the 'concept_name' column: {sentence_count}\")"
   ]
  },
  {
   "cell_type": "code",
   "execution_count": null,
   "id": "1346e0e0",
   "metadata": {},
   "outputs": [],
   "source": []
  },
  {
   "cell_type": "code",
   "execution_count": null,
   "id": "52f18bb0",
   "metadata": {},
   "outputs": [],
   "source": []
  },
  {
   "cell_type": "code",
   "execution_count": null,
   "id": "8469fd20",
   "metadata": {},
   "outputs": [],
   "source": []
  }
 ],
 "metadata": {
  "kernelspec": {
   "display_name": "Python 3 (ipykernel)",
   "language": "python",
   "name": "python3"
  },
  "language_info": {
   "codemirror_mode": {
    "name": "ipython",
    "version": 3
   },
   "file_extension": ".py",
   "mimetype": "text/x-python",
   "name": "python",
   "nbconvert_exporter": "python",
   "pygments_lexer": "ipython3",
   "version": "3.9.16"
  }
 },
 "nbformat": 4,
 "nbformat_minor": 5
}
